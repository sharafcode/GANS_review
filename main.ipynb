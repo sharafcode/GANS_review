{
  "nbformat": 4,
  "nbformat_minor": 0,
  "metadata": {
    "colab": {
      "name": "main.ipynb",
      "provenance": [],
      "collapsed_sections": []
    },
    "kernelspec": {
      "name": "python3",
      "display_name": "Python 3"
    },
    "language_info": {
      "name": "python"
    },
    "accelerator": "GPU"
  },
  "cells": [
    {
      "cell_type": "code",
      "metadata": {
        "id": "CWum5QeCrkXI"
      },
      "source": [
        "from train import *"
      ],
      "execution_count": 1,
      "outputs": []
    },
    {
      "cell_type": "markdown",
      "metadata": {
        "id": "7F7euI2Asrrc"
      },
      "source": [
        "## Without Batch Normalization"
      ]
    },
    {
      "cell_type": "code",
      "metadata": {
        "id": "49xZG0rBkapS"
      },
      "source": [
        "train_loop = Train(is_linear=True, batch_norm=False, \n",
        "                   spectral_norm=False, z_dim=64, device='cpu')\n",
        "train_loop.trainer(lr= 0.00001, n_epochs=100)"
      ],
      "execution_count": null,
      "outputs": []
    },
    {
      "cell_type": "markdown",
      "metadata": {
        "id": "vr2jWKg8dl6Z"
      },
      "source": [
        "## With Batch Normalization"
      ]
    },
    {
      "cell_type": "code",
      "metadata": {
        "id": "BAiLwcZ8rl0A"
      },
      "source": [
        "train_loop = Train(is_linear=True, batch_norm=True,\n",
        "                   spectral_norm=False, z_dim=64, device='cpu')\n",
        "train_loop.trainer(lr= 0.00001, n_epochs=100)"
      ],
      "execution_count": null,
      "outputs": []
    },
    {
      "cell_type": "markdown",
      "metadata": {
        "id": "FRyeaMp-rl7Q"
      },
      "source": [
        "## DCGAN Batch Normalization"
      ]
    },
    {
      "cell_type": "code",
      "metadata": {
        "id": "Iv74nULZrmSc"
      },
      "source": [
        "train_loop = Train(is_linear=False, batch_norm=True, \n",
        "                   spectral_norm=False, z_dim=128,device='cpu')\n",
        "train_loop.trainer(lr= 0.0002)"
      ],
      "execution_count": null,
      "outputs": []
    },
    {
      "cell_type": "markdown",
      "metadata": {
        "id": "XXgLyDYyrmhR"
      },
      "source": [
        "## Spectral Normalization"
      ]
    },
    {
      "cell_type": "code",
      "metadata": {
        "id": "7feoWKzirm1n"
      },
      "source": [
        "train_loop = Train(is_linear=False, batch_norm=False, \n",
        "                   spectral_norm=True, z_dim=128, device='cpu')\n",
        "train_loop.trainer(lr= 0.0002)"
      ],
      "execution_count": null,
      "outputs": []
    },
    {
      "cell_type": "code",
      "metadata": {
        "id": "T0fgjZABCs77"
      },
      "source": [
        ""
      ],
      "execution_count": null,
      "outputs": []
    }
  ]
}